{
  "nbformat": 4,
  "nbformat_minor": 0,
  "metadata": {
    "colab": {
      "provenance": [],
      "toc_visible": true
    },
    "kernelspec": {
      "name": "python3",
      "display_name": "Python 3"
    },
    "language_info": {
      "name": "python"
    }
  },
  "cells": [
    {
      "cell_type": "markdown",
      "source": [
        "# To unzip A: flag:{rbac}\n",
        "\n",
        "It’s a discretionary or mandatory access control that assigns users to roles or groups based on their organizational functions. What kind of access control technique is it?\n",
        "\n",
        "Role Based Access Control -> rbac"
      ],
      "metadata": {
        "id": "nE8JYpUxbQRe"
      }
    },
    {
      "cell_type": "code",
      "source": [
        "# unzip -P flag:{rbac} A.zip"
      ],
      "metadata": {
        "id": "C3Yh4M7UkSQg"
      },
      "execution_count": null,
      "outputs": []
    },
    {
      "cell_type": "markdown",
      "source": [
        "## To open AA\n",
        "\n",
        "> You are in charge of the security of a building where extremely sensitive documents are stored.\n",
        "Instead of assuming that anyone who enters the building is trustworthy,\n",
        "you implement a series of measures to ensure that each individual is verified at every access point.\n",
        "No one is trusted by default, some basic principles (SANS) are authentication and encryption. **What kind of model are you using (in MD5)?**\n",
        "\n",
        "The answer is Zero Trust Security Model\n",
        "\n",
        "To encode \"Zero Trust\" in MD5 using Python, we can use the hashlib library."
      ],
      "metadata": {
        "id": "2mx97Mm6RILj"
      }
    },
    {
      "cell_type": "code",
      "source": [
        "!echo \"zerotrust\" > flagAA.txt"
      ],
      "metadata": {
        "id": "8UFZV18AR43G"
      },
      "execution_count": null,
      "outputs": []
    },
    {
      "cell_type": "code",
      "source": [
        "ls -la"
      ],
      "metadata": {
        "colab": {
          "base_uri": "https://localhost:8080/"
        },
        "id": "uibMs3quR9Ff",
        "outputId": "f6ee12f1-8cb0-4cbb-c3aa-8c8e2a70317d"
      },
      "execution_count": null,
      "outputs": [
        {
          "output_type": "stream",
          "name": "stdout",
          "text": [
            "total 20\n",
            "drwxr-xr-x 1 root root 4096 Jun  7 15:18 \u001b[0m\u001b[01;34m.\u001b[0m/\n",
            "drwxr-xr-x 1 root root 4096 Jun  7 15:18 \u001b[01;34m..\u001b[0m/\n",
            "drwxr-xr-x 4 root root 4096 Jun  5 13:29 \u001b[01;34m.config\u001b[0m/\n",
            "-rw-r--r-- 1 root root   10 Jun  7 15:46 flagAA.txt\n",
            "drwxr-xr-x 1 root root 4096 Jun  5 13:35 \u001b[01;34msample_data\u001b[0m/\n"
          ]
        }
      ]
    },
    {
      "cell_type": "code",
      "source": [
        "!md5sum flagAA.txt\n",
        "# without"
      ],
      "metadata": {
        "colab": {
          "base_uri": "https://localhost:8080/"
        },
        "id": "Uzj2yloVSGFp",
        "outputId": "dcfb9dab-5cae-4f95-b395-6f896c1516a3"
      },
      "execution_count": null,
      "outputs": [
        {
          "output_type": "stream",
          "name": "stdout",
          "text": [
            "813357aaa9ae033ab5ae787ac4e9f192  flagAA.txt\n"
          ]
        }
      ]
    },
    {
      "cell_type": "code",
      "source": [
        "# with -\n",
        "!md5sum flagAA.txt"
      ],
      "metadata": {
        "colab": {
          "base_uri": "https://localhost:8080/"
        },
        "id": "htdRa2-8XQpw",
        "outputId": "b0e12ea1-26ed-4940-b21e-ede1fd0fb5dc"
      },
      "execution_count": null,
      "outputs": [
        {
          "output_type": "stream",
          "name": "stdout",
          "text": [
            "6974b90eb963177f2c94ed81a91d9e3e  flagAA.txt\n"
          ]
        }
      ]
    },
    {
      "cell_type": "markdown",
      "source": [
        "- Por lo tanto la flag es:\n",
        "  - flag:{6974b90eb963177f2c94ed81a91d9e3e} -\n",
        "  - flag:{813357aaa9ae033ab5ae787ac4e9f192}\n"
      ],
      "metadata": {
        "id": "QVUs1HFiSjoB"
      }
    },
    {
      "cell_type": "code",
      "execution_count": null,
      "metadata": {
        "colab": {
          "base_uri": "https://localhost:8080/",
          "height": 55
        },
        "id": "oNA_duMUPwa3",
        "outputId": "3785bd3e-4f11-4185-db27-d747fe9400ff"
      },
      "outputs": [
        {
          "output_type": "execute_result",
          "data": {
            "text/plain": [
              "'4c4887bf69e49c697759ae46fa45de39'"
            ],
            "application/vnd.google.colaboratory.intrinsic+json": {
              "type": "string"
            }
          },
          "metadata": {},
          "execution_count": 7
        }
      ],
      "source": [
        "import hashlib\n",
        "\n",
        "# Define the string and follow the rules\n",
        "string = \"zerotrust\"\n",
        "\n",
        "# Create an MD5 hash object\n",
        "md5_hash = hashlib.md5()\n",
        "\n",
        "# Update the hash object with the bytes of the string\n",
        "md5_hash.update(string.encode('utf-8'))\n",
        "\n",
        "# Get the hexadecimal representation of the hash\n",
        "md5_hex = md5_hash.hexdigest()\n",
        "\n",
        "md5_hex"
      ]
    },
    {
      "cell_type": "markdown",
      "source": [],
      "metadata": {
        "id": "5O7TP3vVbO15"
      }
    },
    {
      "cell_type": "code",
      "source": [
        "# List of variations of the string\n",
        "strings = [\n",
        "    \"zerotrust\",\n",
        "    \"zero-trust\",\n",
        "    \"zerotrustsecuritymodel\",\n",
        "    \"zero-trustsecuritymodel\"\n",
        "]\n",
        "\n",
        "# Function to compute MD5 hash\n",
        "def compute_md5(string):\n",
        "    md5_hash = hashlib.md5()\n",
        "    md5_hash.update(string.encode('utf-8'))\n",
        "    return md5_hash.hexdigest()\n",
        "\n",
        "# Compute and print MD5 hashes for each variation\n",
        "md5_hashes = {s: compute_md5(s) for s in strings}\n",
        "md5_hashes\n"
      ],
      "metadata": {
        "colab": {
          "base_uri": "https://localhost:8080/"
        },
        "id": "xRfZ_DlMSM6S",
        "outputId": "dc1357cf-5fd6-4c35-bbbb-745fed4cc115"
      },
      "execution_count": null,
      "outputs": [
        {
          "output_type": "execute_result",
          "data": {
            "text/plain": [
              "{'zerotrust': '4c4887bf69e49c697759ae46fa45de39',\n",
              " 'zero-trust': 'a2b6b2d9628b97549ac3cabd06835531',\n",
              " 'zerotrustsecuritymodel': 'e7ee02d29bf74edde6aed6409e531753',\n",
              " 'zero-trustsecuritymodel': 'fa32e2527bf5e4677a59fe279b5af733'}"
            ]
          },
          "metadata": {},
          "execution_count": 11
        }
      ]
    },
    {
      "cell_type": "markdown",
      "source": [
        "* para ver la imagen:\n",
        "  - flag:{4c4887bf69e49c697759ae46fa45de39}"
      ],
      "metadata": {
        "id": "XKFPVV7fZSpF"
      }
    },
    {
      "cell_type": "code",
      "source": [
        "flag:{4c4887bf69e49c697759ae46fa45de39}"
      ],
      "metadata": {
        "id": "PCbwFplqSNDG"
      },
      "execution_count": null,
      "outputs": []
    },
    {
      "cell_type": "markdown",
      "source": [
        "### Questions QR\n",
        "\n",
        "1. Always forgetting strong passwords, Justin decided to use a passphrase that invokes imagination: \"Follow-the-White-Rabbit\". What does a passphrase help with?\n",
        "\t- Authentication\n",
        "\t- Una contraseña o frase de paso (passphrase) la utilizamos para verificar la identidad de un usuario antes de concederle acceso a un sistema o recurso.\n",
        "\n",
        "2. Nova checks her computer access logs regularly. She comes across the following: '31/May/2024 14:12:09 eviluser access-successful'. But she was on vacation that day, so it must be an intruder. What process made such detection possible?\n",
        "\t- Accountiting-log\n",
        "\t- Nova detectó un acceso no autorizado a su cuenta revisando los registros de acceso de su computadora.\n",
        "\t\t- Los registros de contabilidad(los logs), son utilizados para registrar y rastrear actividades del sistema como los accesos exitosos\n",
        "\t\t- Nova detectó una actividad sospechosa porque el log guardó la fecha, hora y usuario que accedió\n",
        "\n",
        "3. James contacted the IT department. When asked for his name by the support personnel, he replied, \"Bond, James Bond.\" What is the name of this process?\n",
        "\t- Identification\n",
        "\t-  El proceso de identificación es el primer paso en la verificación de la identidad de un usuario.\n",
        "\t-  James Bond es un personaje famoso de ficción conocido por ser un espía,\n",
        "\n",
        "4. Ashitaka decided to test his cybersecurity skills. He opened his web browser to log in at Hackthebox.com. In the username or email field, he writes ashitaka@domainmail.com. What process is this?\n",
        "\n",
        "\t- Identification why she puts her data, email\n",
        "\t- Identification is the process of claiming to be a specific individual. Typing in a user *ID* is a form of identification.\n",
        "\t-  Cuando Ashitaka introduce su correo electrónico está proporcionando una forma de identificarse ante el sistema.\n",
        "\t- La identificación es el primer paso para establecer la identidad de un usuario antes de proceder a la autenticación y la autorización-\n",
        "\t- @ is at, . is dot\n",
        "\n",
        "5. After a long meeting among various concerned departments, the newly established policy dictates that the Marketing Department can only access the key applications for its operation and no additional resources. What is this process?\n",
        "\t- Access Control\n",
        "\n",
        "- to see the directory AAA:\n",
        "  - **flag:{id3nt1tyandacc355m4n4g3m3nt}**"
      ],
      "metadata": {
        "id": "SDYi0Lsbokbq"
      }
    },
    {
      "cell_type": "code",
      "source": [
        "flag:{id3nt1tyandacc355m4n4g3m3nt}"
      ],
      "metadata": {
        "id": "j6sOZz_FSNM_"
      },
      "execution_count": null,
      "outputs": []
    },
    {
      "cell_type": "markdown",
      "source": [
        "## To OPEN AAAA Using VirusTotal\n",
        "\n",
        "from: https://www.virustotal.com/gui/file/ffa33da68169ae7c58ad43a6d12d283cf965d8ec2ec1e2c1fc7faa18bf55b321/details\n",
        "\n",
        "- From the details of Virus Total, in the section: names I found:\n",
        "  - th1s1safl4gf0rth1sl3v3l.DOC\n",
        "  - {th1s1safl4gf0rth1sl3v3l}.DOC\n",
        "  - teniendo acceso con:\n",
        "    - flag:{th1s1safl4gf0rth1sl3v3l}"
      ],
      "metadata": {
        "id": "MJlCfIh0m5DU"
      }
    },
    {
      "cell_type": "markdown",
      "source": [
        "## Para crear el archivo flags.txt que contiene las keys necesarias."
      ],
      "metadata": {
        "id": "J319GK3zUiru"
      }
    },
    {
      "cell_type": "code",
      "source": [
        "!echo -e \"flag:{rbac}\\nflag:{4c4887bf69e49c697759ae46fa45de39}\\nflag:{id3nt1tyandacc355m4n4g3m3nt}\\nflag:{th1s1safl4gf0rth1sl3v3l}\" > flags.txt"
      ],
      "metadata": {
        "id": "f2baS2MgpDm_"
      },
      "execution_count": null,
      "outputs": []
    },
    {
      "cell_type": "code",
      "source": [
        "!cat flags.txt"
      ],
      "metadata": {
        "colab": {
          "base_uri": "https://localhost:8080/"
        },
        "id": "JY6jmGqlpIDH",
        "outputId": "045dc983-4a5a-4fb9-cddb-629bd85ebc96"
      },
      "execution_count": null,
      "outputs": [
        {
          "output_type": "stream",
          "name": "stdout",
          "text": [
            "flag:{rbac}\n",
            "flag:{4c4887bf69e49c697759ae46fa45de39}\n",
            "flag:{id3nt1tyandacc355m4n4g3m3nt}\n",
            "flag:{th1s1safl4gf0rth1sl3v3l}\n"
          ]
        }
      ]
    },
    {
      "cell_type": "markdown",
      "source": [
        "Para crear el mensaje necesario encriptado ocupamos openssl pero yo lo hice en mi terminal."
      ],
      "metadata": {
        "id": "Nmg9oJmZTdqJ"
      }
    },
    {
      "cell_type": "code",
      "source": [
        "!openssl pkeyutl -encrypt -in flags.txt -out rsa_cipher_flags_JMPM -inkey public-key-gp.pem -pubin"
      ],
      "metadata": {
        "id": "0Muu78ItTTT2"
      },
      "execution_count": null,
      "outputs": []
    }
  ]
}